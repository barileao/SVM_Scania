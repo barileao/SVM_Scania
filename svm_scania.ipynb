{
  "nbformat": 4,
  "nbformat_minor": 0,
  "metadata": {
    "colab": {
      "name": "svm_scania.ipynb",
      "provenance": [],
      "collapsed_sections": [],
      "toc_visible": true,
      "include_colab_link": true
    },
    "kernelspec": {
      "name": "python3",
      "display_name": "Python 3"
    },
    "accelerator": "GPU"
  },
  "cells": [
    {
      "cell_type": "markdown",
      "metadata": {
        "id": "view-in-github",
        "colab_type": "text"
      },
      "source": [
        "<a href=\"https://colab.research.google.com/github/barileao/SVM_Scania/blob/master/svm_scania.ipynb\" target=\"_parent\"><img src=\"https://colab.research.google.com/assets/colab-badge.svg\" alt=\"Open In Colab\"/></a>"
      ]
    },
    {
      "cell_type": "markdown",
      "metadata": {
        "id": "Y2AnIlkd7dxY",
        "colab_type": "text"
      },
      "source": [
        "# Installing packages"
      ]
    },
    {
      "cell_type": "code",
      "metadata": {
        "id": "Rpk8M8hHo5ms",
        "colab_type": "code",
        "colab": {
          "base_uri": "https://localhost:8080/",
          "height": 564
        },
        "outputId": "10be5021-8766-4545-f095-0f614c92e54a"
      },
      "source": [
        "!pip install pyod\n",
        "!pip install impyute"
      ],
      "execution_count": 3,
      "outputs": [
        {
          "output_type": "stream",
          "text": [
            "Collecting pyod\n",
            "\u001b[?25l  Downloading https://files.pythonhosted.org/packages/f9/40/2bffcde2edbbea4e8ae50a868684fd285d746401bd8051732d3a6d6111c4/pyod-0.7.5.tar.gz (86kB)\n",
            "\u001b[K     |████████████████████████████████| 92kB 3.3MB/s \n",
            "\u001b[?25hRequirement already satisfied: joblib in /usr/local/lib/python3.6/dist-packages (from pyod) (0.14.0)\n",
            "Requirement already satisfied: matplotlib in /usr/local/lib/python3.6/dist-packages (from pyod) (3.0.3)\n",
            "Requirement already satisfied: numpy>=1.13 in /usr/local/lib/python3.6/dist-packages (from pyod) (1.16.5)\n",
            "Requirement already satisfied: numba>=0.35 in /usr/local/lib/python3.6/dist-packages (from pyod) (0.40.1)\n",
            "Requirement already satisfied: scipy>=0.19.1 in /usr/local/lib/python3.6/dist-packages (from pyod) (1.3.1)\n",
            "Requirement already satisfied: scikit_learn>=0.19.1 in /usr/local/lib/python3.6/dist-packages (from pyod) (0.21.3)\n",
            "Requirement already satisfied: six in /usr/local/lib/python3.6/dist-packages (from pyod) (1.12.0)\n",
            "Requirement already satisfied: python-dateutil>=2.1 in /usr/local/lib/python3.6/dist-packages (from matplotlib->pyod) (2.5.3)\n",
            "Requirement already satisfied: pyparsing!=2.0.4,!=2.1.2,!=2.1.6,>=2.0.1 in /usr/local/lib/python3.6/dist-packages (from matplotlib->pyod) (2.4.2)\n",
            "Requirement already satisfied: kiwisolver>=1.0.1 in /usr/local/lib/python3.6/dist-packages (from matplotlib->pyod) (1.1.0)\n",
            "Requirement already satisfied: cycler>=0.10 in /usr/local/lib/python3.6/dist-packages (from matplotlib->pyod) (0.10.0)\n",
            "Requirement already satisfied: llvmlite>=0.25.0dev0 in /usr/local/lib/python3.6/dist-packages (from numba>=0.35->pyod) (0.30.0)\n",
            "Requirement already satisfied: setuptools in /usr/local/lib/python3.6/dist-packages (from kiwisolver>=1.0.1->matplotlib->pyod) (41.2.0)\n",
            "Building wheels for collected packages: pyod\n",
            "  Building wheel for pyod (setup.py) ... \u001b[?25l\u001b[?25hdone\n",
            "  Created wheel for pyod: filename=pyod-0.7.5-cp36-none-any.whl size=96597 sha256=b1ad8fdae6fd0bae68c6eb9859f9db8149259033798adf8838217633f04ae7cb\n",
            "  Stored in directory: /root/.cache/pip/wheels/35/bc/f4/2cef321eac851ba02f533e3921b296bb4ce4998c8a4c9a8d6e\n",
            "Successfully built pyod\n",
            "Installing collected packages: pyod\n",
            "Successfully installed pyod-0.7.5\n",
            "Collecting impyute\n",
            "  Downloading https://files.pythonhosted.org/packages/37/28/86829f67c9affb847facaab94687761d3555539ec675f7577778c5b2680a/impyute-0.0.8-py2.py3-none-any.whl\n",
            "Requirement already satisfied: scipy in /usr/local/lib/python3.6/dist-packages (from impyute) (1.3.1)\n",
            "Requirement already satisfied: numpy in /usr/local/lib/python3.6/dist-packages (from impyute) (1.16.5)\n",
            "Requirement already satisfied: scikit-learn in /usr/local/lib/python3.6/dist-packages (from impyute) (0.21.3)\n",
            "Requirement already satisfied: joblib>=0.11 in /usr/local/lib/python3.6/dist-packages (from scikit-learn->impyute) (0.14.0)\n",
            "Installing collected packages: impyute\n",
            "Successfully installed impyute-0.0.8\n"
          ],
          "name": "stdout"
        }
      ]
    },
    {
      "cell_type": "markdown",
      "metadata": {
        "id": "Xt7IbQBD7qGv",
        "colab_type": "text"
      },
      "source": [
        "# Imports"
      ]
    },
    {
      "cell_type": "code",
      "metadata": {
        "id": "q_WOOD2BxHsG",
        "colab_type": "code",
        "outputId": "6c743bbc-81be-4790-9482-7ea7ffaf8fff",
        "colab": {
          "base_uri": "https://localhost:8080/",
          "height": 34
        }
      },
      "source": [
        "# importing all the necessary libraries\n",
        "from google.colab import files\n",
        "import io\n",
        "import warnings\n",
        "warnings.filterwarnings('ignore')\n",
        "import numpy as np\n",
        "import pandas as pd\n",
        "from tqdm import tqdm \n",
        "import matplotlib.pyplot as plt\n",
        "from sklearn.impute import SimpleImputer,MissingIndicator\n",
        "from sklearn.decomposition import TruncatedSVD\n",
        "from xgboost import XGBClassifier\n",
        "from sklearn.model_selection import RandomizedSearchCV,GridSearchCV\n",
        "from sklearn.metrics import confusion_matrix,f1_score,log_loss\n",
        "from sklearn.linear_model import LogisticRegression,SGDClassifier\n",
        "from sklearn.ensemble import RandomForestClassifier\n",
        "from sklearn.svm import LinearSVC\n",
        "from sklearn.preprocessing import StandardScaler\n",
        "import seaborn as sns\n",
        "import missingno as msno\n",
        "from sklearn.decomposition import PCA\n",
        "from datetime import datetime\n",
        "from pyod.models.auto_encoder import AutoEncoder\n",
        "from pyod.models.feature_bagging import FeatureBagging\n",
        "from fancyimpute import SoftImpute\n",
        "from impyute.imputation.cs import mice\n",
        "\n"
      ],
      "execution_count": 4,
      "outputs": [
        {
          "output_type": "stream",
          "text": [
            "Using TensorFlow backend.\n"
          ],
          "name": "stderr"
        }
      ]
    },
    {
      "cell_type": "markdown",
      "metadata": {
        "id": "SsECpgVD7v_y",
        "colab_type": "text"
      },
      "source": [
        "# Access data from drive"
      ]
    },
    {
      "cell_type": "code",
      "metadata": {
        "id": "7WMTkGuy31Sl",
        "colab_type": "code",
        "outputId": "64f99117-f4c5-4711-e8ef-b83a24a32a1d",
        "colab": {
          "base_uri": "https://localhost:8080/",
          "height": 122
        }
      },
      "source": [
        "from google.colab import drive\n",
        "drive.mount('/drive')"
      ],
      "execution_count": 5,
      "outputs": [
        {
          "output_type": "stream",
          "text": [
            "Go to this URL in a browser: https://accounts.google.com/o/oauth2/auth?client_id=947318989803-6bn6qk8qdgf4n4g3pfee6491hc0brc4i.apps.googleusercontent.com&redirect_uri=urn%3Aietf%3Awg%3Aoauth%3A2.0%3Aoob&scope=email%20https%3A%2F%2Fwww.googleapis.com%2Fauth%2Fdocs.test%20https%3A%2F%2Fwww.googleapis.com%2Fauth%2Fdrive%20https%3A%2F%2Fwww.googleapis.com%2Fauth%2Fdrive.photos.readonly%20https%3A%2F%2Fwww.googleapis.com%2Fauth%2Fpeopleapi.readonly&response_type=code\n",
            "\n",
            "Enter your authorization code:\n",
            "··········\n",
            "Mounted at /drive\n"
          ],
          "name": "stdout"
        }
      ]
    },
    {
      "cell_type": "markdown",
      "metadata": {
        "id": "5w5_L8iQqG-9",
        "colab_type": "text"
      },
      "source": [
        "# Upload data\n"
      ]
    },
    {
      "cell_type": "code",
      "metadata": {
        "id": "xz1QLE2u7-PG",
        "colab_type": "code",
        "outputId": "a9bf0cc3-154a-456d-8ed0-6f869ae99e86",
        "colab": {
          "base_uri": "https://localhost:8080/",
          "height": 85
        }
      },
      "source": [
        "filetrain = r'/drive/My Drive/IFES/TCC_Scania/Codes/aps_failure_training_set.csv'\n",
        "filetest = r'/drive/My Drive/IFES/TCC_Scania/Codes/aps_failure_test_set.csv'\n",
        "\n",
        "train = pd.read_csv(filetrain)\n",
        "print('Number of data points in the train dataset', train.shape[0])\n",
        "print('Number of features in the given train dataset', train.shape[1])\n",
        "test = pd.read_csv(filetest)\n",
        "print('Number of data points in the test dataset', test.shape[0])\n",
        "print('Number of features in the given test dataset', test.shape[1])"
      ],
      "execution_count": 6,
      "outputs": [
        {
          "output_type": "stream",
          "text": [
            "Number of data points in the train dataset 60000\n",
            "Number of features in the given train dataset 171\n",
            "Number of data points in the test dataset 16000\n",
            "Number of features in the given test dataset 171\n"
          ],
          "name": "stdout"
        }
      ]
    },
    {
      "cell_type": "code",
      "metadata": {
        "id": "VAKQGUv1uo0D",
        "colab_type": "code",
        "outputId": "7587b188-4230-4132-8602-feb53f69e0df",
        "colab": {
          "base_uri": "https://localhost:8080/",
          "height": 34
        }
      },
      "source": [
        "# Replacing all the class labels as follows:\n",
        "\n",
        "# neg = 0\n",
        "# pos = 1\n",
        "class_labels_train = []\n",
        "for x in tqdm(train.index):\n",
        "    if train['class'].loc[x] == 'neg':\n",
        "        class_labels_train.append(0)\n",
        "        \n",
        "    else:\n",
        "        class_labels_train.append(1)\n",
        "        \n",
        "\n",
        "train['class'] = class_labels_train\n",
        "\n",
        "# Distrubution of class labels in train dataset\n",
        "train['class'].value_counts()\n",
        "\n"
      ],
      "execution_count": 10,
      "outputs": [
        {
          "output_type": "stream",
          "text": [
            "100%|██████████| 60000/60000 [00:02<00:00, 25125.88it/s]\n"
          ],
          "name": "stderr"
        }
      ]
    },
    {
      "cell_type": "markdown",
      "metadata": {
        "id": "iPn2ocekungQ",
        "colab_type": "text"
      },
      "source": [
        "# Histogram"
      ]
    },
    {
      "cell_type": "code",
      "metadata": {
        "id": "rMomDGqHyCnJ",
        "colab_type": "code",
        "outputId": "0422d1ba-f9ed-4656-9a34-7fc43ba163a8",
        "colab": {
          "base_uri": "https://localhost:8080/",
          "height": 315
        }
      },
      "source": [
        "# Histogram plot of class labels of train dataset\n",
        "plt.hist(train['class'])\n",
        "plt.title(\"Histogram plot of class labels\")\n",
        "print(\"Percentage of negative class in the given dataset :\", (train[train['class']== 0].shape[0] / train.shape[0]) * 100)\n",
        "print(\"Percentage of positive class in the given dataset :\", (train[train['class']== 1].shape[0] / train.shape[0]) * 100)\n"
      ],
      "execution_count": 11,
      "outputs": [
        {
          "output_type": "stream",
          "text": [
            "Percentage of negative class in the given dataset : 98.33333333333333\n",
            "Percentage of positive class in the given dataset : 1.6666666666666667\n"
          ],
          "name": "stdout"
        },
        {
          "output_type": "display_data",
          "data": {
            "image/png": "[encoded data removed]",
            "text/plain": [
              "<Figure size 432x288 with 1 Axes>"
            ]
          },
          "metadata": {
            "tags": []
          }
        }
      ]
    },
    {
      "cell_type": "markdown",
      "metadata": {
        "id": "zPn8pYIkuCht",
        "colab_type": "text"
      },
      "source": [
        "# Removing and replacing NAN and NA"
      ]
    },
    {
      "cell_type": "code",
      "metadata": {
        "id": "Idr4ckL73Lpf",
        "colab_type": "code",
        "colab": {}
      },
      "source": [
        "y_train = train['class']\n",
        "train.drop(['class'],axis = 1,inplace = True)\n",
        "\n",
        "# Replacing the na and nan values with np.NaN\n",
        "train.replace(to_replace='nan', value = np.NaN,inplace = True)\n",
        "\n",
        "train.replace(to_replace = 'na', value = np.NaN, inplace = True)\n",
        "\n",
        "columns_names = train.columns\n",
        "\n",
        "\n"
      ],
      "execution_count": 0,
      "outputs": []
    }
  ]
}