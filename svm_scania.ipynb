{
  "nbformat": 4,
  "nbformat_minor": 0,
  "metadata": {
    "colab": {
      "name": "svm_scania.ipynb",
      "provenance": [],
      "collapsed_sections": [],
      "toc_visible": true,
      "include_colab_link": true
    },
    "kernelspec": {
      "name": "python3",
      "display_name": "Python 3"
    },
    "accelerator": "GPU"
  },
  "cells": [
    {
      "cell_type": "markdown",
      "metadata": {
        "id": "view-in-github",
        "colab_type": "text"
      },
      "source": [
        "<a href=\"https://colab.research.google.com/github/barileao/SVM_Scania/blob/master/svm_scania.ipynb\" target=\"_parent\"><img src=\"https://colab.research.google.com/assets/colab-badge.svg\" alt=\"Open In Colab\"/></a>"
      ]
    },
    {
      "cell_type": "markdown",
      "metadata": {
        "id": "Y2AnIlkd7dxY",
        "colab_type": "text"
      },
      "source": [
        "# Instalando packages"
      ]
    },
    {
      "cell_type": "code",
      "metadata": {
        "id": "Rpk8M8hHo5ms",
        "colab_type": "code",
        "outputId": "ad3f794d-322d-4dc3-b10d-41e7bf9301f7",
        "colab": {
          "base_uri": "https://localhost:8080/",
          "height": 564
        }
      },
      "source": [
        "!pip install pyod\n",
        "!pip install impyute"
      ],
      "execution_count": 1,
      "outputs": [
        {
          "output_type": "stream",
          "text": [
            "Collecting pyod\n",
            "\u001b[?25l  Downloading https://files.pythonhosted.org/packages/f9/40/2bffcde2edbbea4e8ae50a868684fd285d746401bd8051732d3a6d6111c4/pyod-0.7.5.tar.gz (86kB)\n",
            "\r\u001b[K     |███▉                            | 10kB 17.1MB/s eta 0:00:01\r\u001b[K     |███████▋                        | 20kB 1.7MB/s eta 0:00:01\r\u001b[K     |███████████▍                    | 30kB 2.4MB/s eta 0:00:01\r\u001b[K     |███████████████▎                | 40kB 1.8MB/s eta 0:00:01\r\u001b[K     |███████████████████             | 51kB 2.2MB/s eta 0:00:01\r\u001b[K     |██████████████████████▉         | 61kB 2.6MB/s eta 0:00:01\r\u001b[K     |██████████████████████████▋     | 71kB 2.7MB/s eta 0:00:01\r\u001b[K     |██████████████████████████████▌ | 81kB 2.9MB/s eta 0:00:01\r\u001b[K     |████████████████████████████████| 92kB 2.6MB/s \n",
            "\u001b[?25hRequirement already satisfied: joblib in /usr/local/lib/python3.6/dist-packages (from pyod) (0.14.0)\n",
            "Requirement already satisfied: matplotlib in /usr/local/lib/python3.6/dist-packages (from pyod) (3.1.1)\n",
            "Requirement already satisfied: numpy>=1.13 in /usr/local/lib/python3.6/dist-packages (from pyod) (1.17.3)\n",
            "Requirement already satisfied: numba>=0.35 in /usr/local/lib/python3.6/dist-packages (from pyod) (0.40.1)\n",
            "Requirement already satisfied: scipy>=0.19.1 in /usr/local/lib/python3.6/dist-packages (from pyod) (1.3.1)\n",
            "Requirement already satisfied: scikit_learn>=0.19.1 in /usr/local/lib/python3.6/dist-packages (from pyod) (0.21.3)\n",
            "Requirement already satisfied: six in /usr/local/lib/python3.6/dist-packages (from pyod) (1.12.0)\n",
            "Requirement already satisfied: cycler>=0.10 in /usr/local/lib/python3.6/dist-packages (from matplotlib->pyod) (0.10.0)\n",
            "Requirement already satisfied: pyparsing!=2.0.4,!=2.1.2,!=2.1.6,>=2.0.1 in /usr/local/lib/python3.6/dist-packages (from matplotlib->pyod) (2.4.2)\n",
            "Requirement already satisfied: kiwisolver>=1.0.1 in /usr/local/lib/python3.6/dist-packages (from matplotlib->pyod) (1.1.0)\n",
            "Requirement already satisfied: python-dateutil>=2.1 in /usr/local/lib/python3.6/dist-packages (from matplotlib->pyod) (2.6.1)\n",
            "Requirement already satisfied: llvmlite>=0.25.0dev0 in /usr/local/lib/python3.6/dist-packages (from numba>=0.35->pyod) (0.30.0)\n",
            "Requirement already satisfied: setuptools in /usr/local/lib/python3.6/dist-packages (from kiwisolver>=1.0.1->matplotlib->pyod) (41.4.0)\n",
            "Building wheels for collected packages: pyod\n",
            "  Building wheel for pyod (setup.py) ... \u001b[?25l\u001b[?25hdone\n",
            "  Created wheel for pyod: filename=pyod-0.7.5-cp36-none-any.whl size=96597 sha256=4f726b9c12e47f6bca2e782e70a2dae324d0a5e15ed64db692cdecb5fe29961c\n",
            "  Stored in directory: /root/.cache/pip/wheels/35/bc/f4/2cef321eac851ba02f533e3921b296bb4ce4998c8a4c9a8d6e\n",
            "Successfully built pyod\n",
            "Installing collected packages: pyod\n",
            "Successfully installed pyod-0.7.5\n",
            "Collecting impyute\n",
            "  Downloading https://files.pythonhosted.org/packages/37/28/86829f67c9affb847facaab94687761d3555539ec675f7577778c5b2680a/impyute-0.0.8-py2.py3-none-any.whl\n",
            "Requirement already satisfied: numpy in /usr/local/lib/python3.6/dist-packages (from impyute) (1.17.3)\n",
            "Requirement already satisfied: scipy in /usr/local/lib/python3.6/dist-packages (from impyute) (1.3.1)\n",
            "Requirement already satisfied: scikit-learn in /usr/local/lib/python3.6/dist-packages (from impyute) (0.21.3)\n",
            "Requirement already satisfied: joblib>=0.11 in /usr/local/lib/python3.6/dist-packages (from scikit-learn->impyute) (0.14.0)\n",
            "Installing collected packages: impyute\n",
            "Successfully installed impyute-0.0.8\n"
          ],
          "name": "stdout"
        }
      ]
    },
    {
      "cell_type": "markdown",
      "metadata": {
        "id": "Xt7IbQBD7qGv",
        "colab_type": "text"
      },
      "source": [
        "# Imports"
      ]
    },
    {
      "cell_type": "code",
      "metadata": {
        "id": "q_WOOD2BxHsG",
        "colab_type": "code",
        "outputId": "79199497-84a9-4377-c55d-baeca5c839c1",
        "colab": {
          "base_uri": "https://localhost:8080/",
          "height": 151
        }
      },
      "source": [
        "# importing all the necessary libraries\n",
        "from google.colab import files\n",
        "import io\n",
        "import warnings\n",
        "warnings.filterwarnings('ignore')\n",
        "import numpy as np\n",
        "import pandas as pd\n",
        "from tqdm import tqdm \n",
        "import matplotlib.pyplot as plt\n",
        "from sklearn import preprocessing\n",
        "from sklearn.impute import SimpleImputer,MissingIndicator\n",
        "from sklearn.decomposition import TruncatedSVD\n",
        "from xgboost import XGBClassifier\n",
        "from sklearn.model_selection import RandomizedSearchCV,GridSearchCV\n",
        "from sklearn.metrics import confusion_matrix,f1_score,log_loss\n",
        "from sklearn.linear_model import LogisticRegression,SGDClassifier\n",
        "from sklearn.ensemble import RandomForestClassifier\n",
        "from sklearn.svm import LinearSVC\n",
        "from sklearn import svm\n",
        "from sklearn.preprocessing import StandardScaler\n",
        "import seaborn as sns\n",
        "import missingno as msno\n",
        "from sklearn.decomposition import PCA\n",
        "from datetime import datetime\n",
        "from pyod.models.auto_encoder import AutoEncoder\n",
        "from pyod.models.feature_bagging import FeatureBagging\n",
        "from fancyimpute import SoftImpute\n",
        "from impyute.imputation.cs import mice\n",
        "\n"
      ],
      "execution_count": 2,
      "outputs": [
        {
          "output_type": "stream",
          "text": [
            "Using TensorFlow backend.\n"
          ],
          "name": "stderr"
        },
        {
          "output_type": "display_data",
          "data": {
            "text/html": [
              "<p style=\"color: red;\">\n",
              "The default version of TensorFlow in Colab will soon switch to TensorFlow 2.x.<br>\n",
              "We recommend you <a href=\"https://www.tensorflow.org/guide/migrate\" target=\"_blank\">upgrade</a> now \n",
              "or ensure your notebook will continue to use TensorFlow 1.x via the <code>%tensorflow_version 1.x</code> magic:\n",
              "<a href=\"https://colab.research.google.com/notebooks/tensorflow_version.ipynb\" target=\"_blank\">more info</a>.</p>\n"
            ],
            "text/plain": [
              "<IPython.core.display.HTML object>"
            ]
          },
          "metadata": {
            "tags": []
          }
        },
        {
          "output_type": "stream",
          "text": [
            "/usr/local/lib/python3.6/dist-packages/sklearn/externals/six.py:31: DeprecationWarning: The module is deprecated in version 0.21 and will be removed in version 0.23 since we've dropped support for Python 2.7. Please rely on the official version of six (https://pypi.org/project/six/).\n",
            "  \"(https://pypi.org/project/six/).\", DeprecationWarning)\n"
          ],
          "name": "stderr"
        }
      ]
    },
    {
      "cell_type": "markdown",
      "metadata": {
        "id": "SsECpgVD7v_y",
        "colab_type": "text"
      },
      "source": [
        "# Acessar os dados no Drive\n"
      ]
    },
    {
      "cell_type": "code",
      "metadata": {
        "id": "7WMTkGuy31Sl",
        "colab_type": "code",
        "outputId": "863c7217-a846-4cd8-9e3f-44e5a385c8d4",
        "colab": {
          "base_uri": "https://localhost:8080/",
          "height": 122
        }
      },
      "source": [
        "from google.colab import drive\n",
        "drive.mount('/drive')"
      ],
      "execution_count": 3,
      "outputs": [
        {
          "output_type": "stream",
          "text": [
            "Go to this URL in a browser: https://accounts.google.com/o/oauth2/auth?client_id=947318989803-6bn6qk8qdgf4n4g3pfee6491hc0brc4i.apps.googleusercontent.com&redirect_uri=urn%3Aietf%3Awg%3Aoauth%3A2.0%3Aoob&scope=email%20https%3A%2F%2Fwww.googleapis.com%2Fauth%2Fdocs.test%20https%3A%2F%2Fwww.googleapis.com%2Fauth%2Fdrive%20https%3A%2F%2Fwww.googleapis.com%2Fauth%2Fdrive.photos.readonly%20https%3A%2F%2Fwww.googleapis.com%2Fauth%2Fpeopleapi.readonly&response_type=code\n",
            "\n",
            "Enter your authorization code:\n",
            "··········\n",
            "Mounted at /drive\n"
          ],
          "name": "stdout"
        }
      ]
    },
    {
      "cell_type": "markdown",
      "metadata": {
        "id": "5w5_L8iQqG-9",
        "colab_type": "text"
      },
      "source": [
        "# Upload dos dados\n"
      ]
    },
    {
      "cell_type": "code",
      "metadata": {
        "id": "xz1QLE2u7-PG",
        "colab_type": "code",
        "colab": {
          "base_uri": "https://localhost:8080/",
          "height": 85
        },
        "outputId": "6b4ac863-338a-41c1-f085-120d56055a0a"
      },
      "source": [
        "filetrain = r'/drive/My Drive/IFES/TCC_Scania/Codes/aps_failure_training_set.csv'\n",
        "filetest = r'/drive/My Drive/IFES/TCC_Scania/Codes/aps_failure_test_set.csv'\n",
        "\n",
        "train = pd.read_csv(filetrain)\n",
        "print('Number of data points in the train dataset', train.shape[0])\n",
        "print('Number of features in the given train dataset', train.shape[1])\n",
        "test = pd.read_csv(filetest)\n",
        "print('Number of data points in the test dataset', test.shape[0])\n",
        "print('Number of features in the given test dataset', test.shape[1])"
      ],
      "execution_count": 4,
      "outputs": [
        {
          "output_type": "stream",
          "text": [
            "Number of data points in the train dataset 60000\n",
            "Number of features in the given train dataset 171\n",
            "Number of data points in the test dataset 16000\n",
            "Number of features in the given test dataset 171\n"
          ],
          "name": "stdout"
        }
      ]
    },
    {
      "cell_type": "code",
      "metadata": {
        "id": "VAKQGUv1uo0D",
        "colab_type": "code",
        "outputId": "32f381f9-90fa-452f-ac0a-86eae9d6ae81",
        "colab": {
          "base_uri": "https://localhost:8080/",
          "height": 85
        }
      },
      "source": [
        "# ----------------------Train--------------------------------\n",
        "\n",
        "# Replacing all the class labels as follows:\n",
        "\n",
        "# neg = 0\n",
        "# pos = 1\n",
        "class_labels_train = []\n",
        "for x in tqdm(train.index):        # tqdm = barra de progresso\n",
        "    if train['class'].loc[x] == 'neg':\n",
        "        class_labels_train.append(0)\n",
        "        \n",
        "    else:\n",
        "        class_labels_train.append(1)\n",
        "        \n",
        "\n",
        "train['class'] = class_labels_train\n",
        "\n",
        "# Distrubution of class labels in train dataset\n",
        "train['class'].value_counts()\n",
        "\n",
        "\n"
      ],
      "execution_count": 5,
      "outputs": [
        {
          "output_type": "stream",
          "text": [
            "100%|██████████| 60000/60000 [00:02<00:00, 26383.47it/s]\n"
          ],
          "name": "stderr"
        },
        {
          "output_type": "execute_result",
          "data": {
            "text/plain": [
              "0    59000\n",
              "1     1000\n",
              "Name: class, dtype: int64"
            ]
          },
          "metadata": {
            "tags": []
          },
          "execution_count": 5
        }
      ]
    },
    {
      "cell_type": "markdown",
      "metadata": {
        "id": "iPn2ocekungQ",
        "colab_type": "text"
      },
      "source": [
        "# Histograma"
      ]
    },
    {
      "cell_type": "code",
      "metadata": {
        "id": "rMomDGqHyCnJ",
        "colab_type": "code",
        "colab": {}
      },
      "source": [
        "# Histogram plot of class labels of train dataset\n",
        "plt.hist(train['class'])\n",
        "plt.title(\"Histogram plot of class labels\")\n",
        "print(\"Percentage of negative class in the given dataset :\", (train[train['class']== 0].shape[0] / train.shape[0]) * 100)\n",
        "print(\"Percentage of positive class in the given dataset :\", (train[train['class']== 1].shape[0] / train.shape[0]) * 100)\n"
      ],
      "execution_count": 0,
      "outputs": []
    },
    {
      "cell_type": "markdown",
      "metadata": {
        "id": "zPn8pYIkuCht",
        "colab_type": "text"
      },
      "source": [
        "# Remover e substituir NAN e NA"
      ]
    },
    {
      "cell_type": "code",
      "metadata": {
        "id": "Idr4ckL73Lpf",
        "colab_type": "code",
        "colab": {
          "base_uri": "https://localhost:8080/",
          "height": 253
        },
        "outputId": "58f45c93-739e-4180-92c2-4fcc1ca0becd"
      },
      "source": [
        "# ----------------------Train--------------------------------\n",
        "# Replacing the na and nan values with np.NaN\n",
        "train.replace(to_replace='nan', value = np.NaN,inplace = True)\n",
        "\n",
        "train.replace(to_replace = 'na', value = np.NaN, inplace = True)\n",
        "\n",
        "columns_names = train.columns\n",
        "\n",
        "train.describe(include='all')\n",
        "\n",
        "# Dropping all the columns where the number of missing values are more than 42K (>70%)\n",
        "train.dropna(axis = 1, thresh=42000,inplace= True)\n",
        "train.head()\n",
        "\n"
      ],
      "execution_count": 6,
      "outputs": [
        {
          "output_type": "execute_result",
          "data": {
            "text/html": [
              "<div>\n",
              "<style scoped>\n",
              "    .dataframe tbody tr th:only-of-type {\n",
              "        vertical-align: middle;\n",
              "    }\n",
              "\n",
              "    .dataframe tbody tr th {\n",
              "        vertical-align: top;\n",
              "    }\n",
              "\n",
              "    .dataframe thead th {\n",
              "        text-align: right;\n",
              "    }\n",
              "</style>\n",
              "<table border=\"1\" class=\"dataframe\">\n",
              "  <thead>\n",
              "    <tr style=\"text-align: right;\">\n",
              "      <th></th>\n",
              "      <th>class</th>\n",
              "      <th>aa_000</th>\n",
              "      <th>ac_000</th>\n",
              "      <th>ad_000</th>\n",
              "      <th>ae_000</th>\n",
              "      <th>af_000</th>\n",
              "      <th>ag_000</th>\n",
              "      <th>ag_001</th>\n",
              "      <th>ag_002</th>\n",
              "      <th>ag_003</th>\n",
              "      <th>ag_004</th>\n",
              "      <th>ag_005</th>\n",
              "      <th>ag_006</th>\n",
              "      <th>ag_007</th>\n",
              "      <th>ag_008</th>\n",
              "      <th>ag_009</th>\n",
              "      <th>ah_000</th>\n",
              "      <th>ai_000</th>\n",
              "      <th>aj_000</th>\n",
              "      <th>ak_000</th>\n",
              "      <th>al_000</th>\n",
              "      <th>am_0</th>\n",
              "      <th>an_000</th>\n",
              "      <th>ao_000</th>\n",
              "      <th>ap_000</th>\n",
              "      <th>aq_000</th>\n",
              "      <th>ar_000</th>\n",
              "      <th>as_000</th>\n",
              "      <th>at_000</th>\n",
              "      <th>au_000</th>\n",
              "      <th>av_000</th>\n",
              "      <th>ax_000</th>\n",
              "      <th>ay_000</th>\n",
              "      <th>ay_001</th>\n",
              "      <th>ay_002</th>\n",
              "      <th>ay_003</th>\n",
              "      <th>ay_004</th>\n",
              "      <th>ay_005</th>\n",
              "      <th>ay_006</th>\n",
              "      <th>ay_007</th>\n",
              "      <th>...</th>\n",
              "      <th>db_000</th>\n",
              "      <th>dc_000</th>\n",
              "      <th>dd_000</th>\n",
              "      <th>de_000</th>\n",
              "      <th>df_000</th>\n",
              "      <th>dg_000</th>\n",
              "      <th>dh_000</th>\n",
              "      <th>di_000</th>\n",
              "      <th>dj_000</th>\n",
              "      <th>dk_000</th>\n",
              "      <th>dl_000</th>\n",
              "      <th>dm_000</th>\n",
              "      <th>dn_000</th>\n",
              "      <th>do_000</th>\n",
              "      <th>dp_000</th>\n",
              "      <th>dq_000</th>\n",
              "      <th>dr_000</th>\n",
              "      <th>ds_000</th>\n",
              "      <th>dt_000</th>\n",
              "      <th>du_000</th>\n",
              "      <th>dv_000</th>\n",
              "      <th>dx_000</th>\n",
              "      <th>dy_000</th>\n",
              "      <th>dz_000</th>\n",
              "      <th>ea_000</th>\n",
              "      <th>eb_000</th>\n",
              "      <th>ec_00</th>\n",
              "      <th>ed_000</th>\n",
              "      <th>ee_000</th>\n",
              "      <th>ee_001</th>\n",
              "      <th>ee_002</th>\n",
              "      <th>ee_003</th>\n",
              "      <th>ee_004</th>\n",
              "      <th>ee_005</th>\n",
              "      <th>ee_006</th>\n",
              "      <th>ee_007</th>\n",
              "      <th>ee_008</th>\n",
              "      <th>ee_009</th>\n",
              "      <th>ef_000</th>\n",
              "      <th>eg_000</th>\n",
              "    </tr>\n",
              "  </thead>\n",
              "  <tbody>\n",
              "    <tr>\n",
              "      <th>0</th>\n",
              "      <td>0</td>\n",
              "      <td>76698</td>\n",
              "      <td>2130706438</td>\n",
              "      <td>280</td>\n",
              "      <td>0</td>\n",
              "      <td>0</td>\n",
              "      <td>0</td>\n",
              "      <td>0</td>\n",
              "      <td>0</td>\n",
              "      <td>0</td>\n",
              "      <td>37250</td>\n",
              "      <td>1432864</td>\n",
              "      <td>3664156</td>\n",
              "      <td>1007684</td>\n",
              "      <td>25896</td>\n",
              "      <td>0</td>\n",
              "      <td>2551696</td>\n",
              "      <td>0</td>\n",
              "      <td>0</td>\n",
              "      <td>0</td>\n",
              "      <td>0</td>\n",
              "      <td>0</td>\n",
              "      <td>4933296</td>\n",
              "      <td>3655166</td>\n",
              "      <td>1766008</td>\n",
              "      <td>1132040</td>\n",
              "      <td>0</td>\n",
              "      <td>0</td>\n",
              "      <td>0</td>\n",
              "      <td>0</td>\n",
              "      <td>1012</td>\n",
              "      <td>268</td>\n",
              "      <td>0</td>\n",
              "      <td>0</td>\n",
              "      <td>0</td>\n",
              "      <td>0</td>\n",
              "      <td>0</td>\n",
              "      <td>469014</td>\n",
              "      <td>4239660</td>\n",
              "      <td>703300</td>\n",
              "      <td>...</td>\n",
              "      <td>18</td>\n",
              "      <td>5330690</td>\n",
              "      <td>4732</td>\n",
              "      <td>1126</td>\n",
              "      <td>0</td>\n",
              "      <td>0</td>\n",
              "      <td>0</td>\n",
              "      <td>0</td>\n",
              "      <td>0</td>\n",
              "      <td>0</td>\n",
              "      <td>0</td>\n",
              "      <td>0</td>\n",
              "      <td>62282</td>\n",
              "      <td>85908</td>\n",
              "      <td>32790</td>\n",
              "      <td>0</td>\n",
              "      <td>0</td>\n",
              "      <td>202710</td>\n",
              "      <td>37928</td>\n",
              "      <td>14745580</td>\n",
              "      <td>1876644</td>\n",
              "      <td>0</td>\n",
              "      <td>0</td>\n",
              "      <td>0</td>\n",
              "      <td>0</td>\n",
              "      <td>2801180</td>\n",
              "      <td>2445.8</td>\n",
              "      <td>2712</td>\n",
              "      <td>965866</td>\n",
              "      <td>1706908</td>\n",
              "      <td>1240520</td>\n",
              "      <td>493384</td>\n",
              "      <td>721044</td>\n",
              "      <td>469792</td>\n",
              "      <td>339156</td>\n",
              "      <td>157956</td>\n",
              "      <td>73224</td>\n",
              "      <td>0</td>\n",
              "      <td>0</td>\n",
              "      <td>0</td>\n",
              "    </tr>\n",
              "    <tr>\n",
              "      <th>1</th>\n",
              "      <td>0</td>\n",
              "      <td>33058</td>\n",
              "      <td>0</td>\n",
              "      <td>NaN</td>\n",
              "      <td>0</td>\n",
              "      <td>0</td>\n",
              "      <td>0</td>\n",
              "      <td>0</td>\n",
              "      <td>0</td>\n",
              "      <td>0</td>\n",
              "      <td>18254</td>\n",
              "      <td>653294</td>\n",
              "      <td>1720800</td>\n",
              "      <td>516724</td>\n",
              "      <td>31642</td>\n",
              "      <td>0</td>\n",
              "      <td>1393352</td>\n",
              "      <td>0</td>\n",
              "      <td>68</td>\n",
              "      <td>0</td>\n",
              "      <td>0</td>\n",
              "      <td>0</td>\n",
              "      <td>2560898</td>\n",
              "      <td>2127150</td>\n",
              "      <td>1084598</td>\n",
              "      <td>338544</td>\n",
              "      <td>0</td>\n",
              "      <td>0</td>\n",
              "      <td>0</td>\n",
              "      <td>0</td>\n",
              "      <td>0</td>\n",
              "      <td>0</td>\n",
              "      <td>0</td>\n",
              "      <td>0</td>\n",
              "      <td>0</td>\n",
              "      <td>0</td>\n",
              "      <td>0</td>\n",
              "      <td>71510</td>\n",
              "      <td>772720</td>\n",
              "      <td>1996924</td>\n",
              "      <td>...</td>\n",
              "      <td>NaN</td>\n",
              "      <td>NaN</td>\n",
              "      <td>3312</td>\n",
              "      <td>522</td>\n",
              "      <td>0</td>\n",
              "      <td>0</td>\n",
              "      <td>0</td>\n",
              "      <td>0</td>\n",
              "      <td>0</td>\n",
              "      <td>0</td>\n",
              "      <td>0</td>\n",
              "      <td>0</td>\n",
              "      <td>33736</td>\n",
              "      <td>36946</td>\n",
              "      <td>5936</td>\n",
              "      <td>0</td>\n",
              "      <td>0</td>\n",
              "      <td>103330</td>\n",
              "      <td>16254</td>\n",
              "      <td>4510080</td>\n",
              "      <td>868538</td>\n",
              "      <td>0</td>\n",
              "      <td>0</td>\n",
              "      <td>0</td>\n",
              "      <td>0</td>\n",
              "      <td>3477820</td>\n",
              "      <td>2211.76</td>\n",
              "      <td>2334</td>\n",
              "      <td>664504</td>\n",
              "      <td>824154</td>\n",
              "      <td>421400</td>\n",
              "      <td>178064</td>\n",
              "      <td>293306</td>\n",
              "      <td>245416</td>\n",
              "      <td>133654</td>\n",
              "      <td>81140</td>\n",
              "      <td>97576</td>\n",
              "      <td>1500</td>\n",
              "      <td>0</td>\n",
              "      <td>0</td>\n",
              "    </tr>\n",
              "    <tr>\n",
              "      <th>2</th>\n",
              "      <td>0</td>\n",
              "      <td>41040</td>\n",
              "      <td>228</td>\n",
              "      <td>100</td>\n",
              "      <td>0</td>\n",
              "      <td>0</td>\n",
              "      <td>0</td>\n",
              "      <td>0</td>\n",
              "      <td>0</td>\n",
              "      <td>0</td>\n",
              "      <td>1648</td>\n",
              "      <td>370592</td>\n",
              "      <td>1883374</td>\n",
              "      <td>292936</td>\n",
              "      <td>12016</td>\n",
              "      <td>0</td>\n",
              "      <td>1234132</td>\n",
              "      <td>0</td>\n",
              "      <td>0</td>\n",
              "      <td>0</td>\n",
              "      <td>0</td>\n",
              "      <td>0</td>\n",
              "      <td>2371990</td>\n",
              "      <td>2173634</td>\n",
              "      <td>300796</td>\n",
              "      <td>153698</td>\n",
              "      <td>0</td>\n",
              "      <td>0</td>\n",
              "      <td>0</td>\n",
              "      <td>0</td>\n",
              "      <td>358</td>\n",
              "      <td>110</td>\n",
              "      <td>0</td>\n",
              "      <td>0</td>\n",
              "      <td>0</td>\n",
              "      <td>0</td>\n",
              "      <td>0</td>\n",
              "      <td>0</td>\n",
              "      <td>870456</td>\n",
              "      <td>239798</td>\n",
              "      <td>...</td>\n",
              "      <td>0</td>\n",
              "      <td>2341048</td>\n",
              "      <td>1494</td>\n",
              "      <td>152</td>\n",
              "      <td>0</td>\n",
              "      <td>0</td>\n",
              "      <td>0</td>\n",
              "      <td>0</td>\n",
              "      <td>0</td>\n",
              "      <td>0</td>\n",
              "      <td>0</td>\n",
              "      <td>0</td>\n",
              "      <td>13876</td>\n",
              "      <td>38182</td>\n",
              "      <td>8138</td>\n",
              "      <td>0</td>\n",
              "      <td>0</td>\n",
              "      <td>65772</td>\n",
              "      <td>10534</td>\n",
              "      <td>300240</td>\n",
              "      <td>48028</td>\n",
              "      <td>0</td>\n",
              "      <td>0</td>\n",
              "      <td>0</td>\n",
              "      <td>0</td>\n",
              "      <td>1040120</td>\n",
              "      <td>1018.64</td>\n",
              "      <td>1020</td>\n",
              "      <td>262032</td>\n",
              "      <td>453378</td>\n",
              "      <td>277378</td>\n",
              "      <td>159812</td>\n",
              "      <td>423992</td>\n",
              "      <td>409564</td>\n",
              "      <td>320746</td>\n",
              "      <td>158022</td>\n",
              "      <td>95128</td>\n",
              "      <td>514</td>\n",
              "      <td>0</td>\n",
              "      <td>0</td>\n",
              "    </tr>\n",
              "    <tr>\n",
              "      <th>3</th>\n",
              "      <td>0</td>\n",
              "      <td>12</td>\n",
              "      <td>70</td>\n",
              "      <td>66</td>\n",
              "      <td>0</td>\n",
              "      <td>10</td>\n",
              "      <td>0</td>\n",
              "      <td>0</td>\n",
              "      <td>0</td>\n",
              "      <td>318</td>\n",
              "      <td>2212</td>\n",
              "      <td>3232</td>\n",
              "      <td>1872</td>\n",
              "      <td>0</td>\n",
              "      <td>0</td>\n",
              "      <td>0</td>\n",
              "      <td>2668</td>\n",
              "      <td>0</td>\n",
              "      <td>0</td>\n",
              "      <td>0</td>\n",
              "      <td>642</td>\n",
              "      <td>3894</td>\n",
              "      <td>10184</td>\n",
              "      <td>7554</td>\n",
              "      <td>10764</td>\n",
              "      <td>1014</td>\n",
              "      <td>0</td>\n",
              "      <td>0</td>\n",
              "      <td>0</td>\n",
              "      <td>0</td>\n",
              "      <td>60</td>\n",
              "      <td>6</td>\n",
              "      <td>0</td>\n",
              "      <td>0</td>\n",
              "      <td>0</td>\n",
              "      <td>0</td>\n",
              "      <td>0</td>\n",
              "      <td>0</td>\n",
              "      <td>0</td>\n",
              "      <td>2038</td>\n",
              "      <td>...</td>\n",
              "      <td>0</td>\n",
              "      <td>2578</td>\n",
              "      <td>76</td>\n",
              "      <td>62</td>\n",
              "      <td>0</td>\n",
              "      <td>0</td>\n",
              "      <td>0</td>\n",
              "      <td>0</td>\n",
              "      <td>0</td>\n",
              "      <td>0</td>\n",
              "      <td>0</td>\n",
              "      <td>0</td>\n",
              "      <td>232</td>\n",
              "      <td>0</td>\n",
              "      <td>0</td>\n",
              "      <td>2014</td>\n",
              "      <td>370</td>\n",
              "      <td>48</td>\n",
              "      <td>18</td>\n",
              "      <td>15740</td>\n",
              "      <td>1822</td>\n",
              "      <td>20174</td>\n",
              "      <td>44</td>\n",
              "      <td>0</td>\n",
              "      <td>0</td>\n",
              "      <td>0</td>\n",
              "      <td>1.08</td>\n",
              "      <td>54</td>\n",
              "      <td>5670</td>\n",
              "      <td>1566</td>\n",
              "      <td>240</td>\n",
              "      <td>46</td>\n",
              "      <td>58</td>\n",
              "      <td>44</td>\n",
              "      <td>10</td>\n",
              "      <td>0</td>\n",
              "      <td>0</td>\n",
              "      <td>0</td>\n",
              "      <td>4</td>\n",
              "      <td>32</td>\n",
              "    </tr>\n",
              "    <tr>\n",
              "      <th>4</th>\n",
              "      <td>0</td>\n",
              "      <td>60874</td>\n",
              "      <td>1368</td>\n",
              "      <td>458</td>\n",
              "      <td>0</td>\n",
              "      <td>0</td>\n",
              "      <td>0</td>\n",
              "      <td>0</td>\n",
              "      <td>0</td>\n",
              "      <td>0</td>\n",
              "      <td>43752</td>\n",
              "      <td>1966618</td>\n",
              "      <td>1800340</td>\n",
              "      <td>131646</td>\n",
              "      <td>4588</td>\n",
              "      <td>0</td>\n",
              "      <td>1974038</td>\n",
              "      <td>0</td>\n",
              "      <td>226</td>\n",
              "      <td>0</td>\n",
              "      <td>0</td>\n",
              "      <td>0</td>\n",
              "      <td>3230626</td>\n",
              "      <td>2618878</td>\n",
              "      <td>1058136</td>\n",
              "      <td>551022</td>\n",
              "      <td>0</td>\n",
              "      <td>0</td>\n",
              "      <td>0</td>\n",
              "      <td>0</td>\n",
              "      <td>1788</td>\n",
              "      <td>642</td>\n",
              "      <td>0</td>\n",
              "      <td>0</td>\n",
              "      <td>0</td>\n",
              "      <td>0</td>\n",
              "      <td>42124</td>\n",
              "      <td>372236</td>\n",
              "      <td>2128914</td>\n",
              "      <td>819596</td>\n",
              "      <td>...</td>\n",
              "      <td>0</td>\n",
              "      <td>3590004</td>\n",
              "      <td>2026</td>\n",
              "      <td>444</td>\n",
              "      <td>0</td>\n",
              "      <td>0</td>\n",
              "      <td>0</td>\n",
              "      <td>0</td>\n",
              "      <td>0</td>\n",
              "      <td>0</td>\n",
              "      <td>0</td>\n",
              "      <td>0</td>\n",
              "      <td>44946</td>\n",
              "      <td>62648</td>\n",
              "      <td>11506</td>\n",
              "      <td>0</td>\n",
              "      <td>0</td>\n",
              "      <td>149474</td>\n",
              "      <td>35154</td>\n",
              "      <td>457040</td>\n",
              "      <td>80482</td>\n",
              "      <td>98334</td>\n",
              "      <td>27588</td>\n",
              "      <td>0</td>\n",
              "      <td>0</td>\n",
              "      <td>21173050</td>\n",
              "      <td>1116.06</td>\n",
              "      <td>1176</td>\n",
              "      <td>404740</td>\n",
              "      <td>904230</td>\n",
              "      <td>622012</td>\n",
              "      <td>229790</td>\n",
              "      <td>405298</td>\n",
              "      <td>347188</td>\n",
              "      <td>286954</td>\n",
              "      <td>311560</td>\n",
              "      <td>433954</td>\n",
              "      <td>1218</td>\n",
              "      <td>0</td>\n",
              "      <td>0</td>\n",
              "    </tr>\n",
              "  </tbody>\n",
              "</table>\n",
              "<p>5 rows × 161 columns</p>\n",
              "</div>"
            ],
            "text/plain": [
              "   class  aa_000      ac_000 ad_000 ae_000  ...  ee_007  ee_008 ee_009 ef_000 eg_000\n",
              "0      0   76698  2130706438    280      0  ...  157956   73224      0      0      0\n",
              "1      0   33058           0    NaN      0  ...   81140   97576   1500      0      0\n",
              "2      0   41040         228    100      0  ...  158022   95128    514      0      0\n",
              "3      0      12          70     66      0  ...       0       0      0      4     32\n",
              "4      0   60874        1368    458      0  ...  311560  433954   1218      0      0\n",
              "\n",
              "[5 rows x 161 columns]"
            ]
          },
          "metadata": {
            "tags": []
          },
          "execution_count": 6
        }
      ]
    },
    {
      "cell_type": "markdown",
      "metadata": {
        "id": "rmTXfBlA3J6o",
        "colab_type": "text"
      },
      "source": [
        "# Train data: mediana, média e mais frequente "
      ]
    },
    {
      "cell_type": "code",
      "metadata": {
        "id": "jMK7c5Kr162x",
        "colab_type": "code",
        "colab": {
          "base_uri": "https://localhost:8080/",
          "height": 68
        },
        "outputId": "58cba847-cb00-47d3-a05a-3ec5aab1ca42"
      },
      "source": [
        "# using median\n",
        "impute_median = SimpleImputer(missing_values= np.nan, strategy='median',copy = True, verbose= 2)\n",
        "train_median = pd.DataFrame(impute_median.fit_transform(train),columns=train.columns)\n",
        "train_median['class'].value_counts()\n",
        "#train_imputed_median.to_csv(\"Train_imputed_median\")\n",
        "\n",
        "# using mean\n",
        "#impute_mean = SimpleImputer(missing_values= np.nan, strategy='mean',copy = True, verbose= 2)\n",
        "#train_mean = pd.DataFrame(impute_mean.fit_transform(train),columns=train.columns)\n",
        "#train_imputed_mean.to_csv(\"Train_imputed_mean\")\n",
        "\n",
        "# using most frequent\n",
        "#impute_most_frequent = SimpleImputer(missing_values= np.nan, strategy='most_frequent',copy = True, verbose= 2)\n",
        "#train_most_frequent = pd.DataFrame(impute_most_frequent.fit_transform(train),columns=train.columns)\n",
        "#train_imputed_most_frequent.to_csv(\"Train_imputed_most_frequent\")\n",
        "\n",
        "# Feature engineering, creating a new feature set which indicates \n",
        "# the missing value in a given row and column as True else False\n",
        "#missing_impute = MissingIndicator()\n",
        "#miss = missing_impute.fit_transform(train)\n",
        "#train_miss_indi = pd.DataFrame(miss)\n",
        "#train_miss_indi.to_csv('train_miss_indi.csv')"
      ],
      "execution_count": 7,
      "outputs": [
        {
          "output_type": "execute_result",
          "data": {
            "text/plain": [
              "0.0    59000\n",
              "1.0     1000\n",
              "Name: class, dtype: int64"
            ]
          },
          "metadata": {
            "tags": []
          },
          "execution_count": 7
        }
      ]
    },
    {
      "cell_type": "markdown",
      "metadata": {
        "id": "OL64ZFRNvSaG",
        "colab_type": "text"
      },
      "source": [
        "# Retirar os Outliers para o treinamento"
      ]
    },
    {
      "cell_type": "code",
      "metadata": {
        "id": "ArTM9UftvWd6",
        "colab_type": "code",
        "colab": {
          "base_uri": "https://localhost:8080/",
          "height": 289
        },
        "outputId": "aa45a3c3-18bb-4c23-86a3-af367c821cfc"
      },
      "source": [
        "#coletando os outliers do train para 'trainol'\n",
        "trainol_median = train_median.loc[(train_median['class'] ==1)]\n",
        "#print(trainol_median)\n",
        "\n",
        "#removendo os outliers para treinamento \n",
        "train_median = train_median[train_median['class'] != 1]\n",
        "print(train_median)\n",
        "train_median['class'].value_counts()"
      ],
      "execution_count": 8,
      "outputs": [
        {
          "output_type": "stream",
          "text": [
            "       class    aa_000        ac_000  ...    ee_009  ef_000  eg_000\n",
            "0        0.0   76698.0  2.130706e+09  ...       0.0     0.0     0.0\n",
            "1        0.0   33058.0  0.000000e+00  ...    1500.0     0.0     0.0\n",
            "2        0.0   41040.0  2.280000e+02  ...     514.0     0.0     0.0\n",
            "3        0.0      12.0  7.000000e+01  ...       0.0     4.0    32.0\n",
            "4        0.0   60874.0  1.368000e+03  ...    1218.0     0.0     0.0\n",
            "...      ...       ...           ...  ...       ...     ...     ...\n",
            "59995    0.0  153002.0  6.640000e+02  ...   28588.0     0.0     0.0\n",
            "59996    0.0    2286.0  2.130707e+09  ...       0.0     0.0     0.0\n",
            "59997    0.0     112.0  2.130706e+09  ...       0.0     0.0     0.0\n",
            "59998    0.0   80292.0  2.130706e+09  ...  388422.0     0.0     0.0\n",
            "59999    0.0   40222.0  6.980000e+02  ...     158.0     0.0     0.0\n",
            "\n",
            "[59000 rows x 161 columns]\n"
          ],
          "name": "stdout"
        },
        {
          "output_type": "execute_result",
          "data": {
            "text/plain": [
              "0.0    59000\n",
              "Name: class, dtype: int64"
            ]
          },
          "metadata": {
            "tags": []
          },
          "execution_count": 8
        }
      ]
    },
    {
      "cell_type": "markdown",
      "metadata": {
        "id": "J0ZOAeqlLxk0",
        "colab_type": "text"
      },
      "source": [
        "# Padronizando os dados"
      ]
    },
    {
      "cell_type": "code",
      "metadata": {
        "id": "bx1LlW4VL08R",
        "colab_type": "code",
        "colab": {}
      },
      "source": [
        "# Get column names first\n",
        "names = train.columns\n",
        "\n",
        "# Create the Scaler object\n",
        "scaler = preprocessing.StandardScaler()\n",
        "\n",
        "# Fit your data on the scaler object - train_imputed_median\n",
        "train_median = scaler.fit_transform(train_median)\n",
        "train_median = pd.DataFrame(train_median, columns=names)\n",
        "trainol_median = scaler.fit_transform(trainol_median)\n",
        "trainol_median = pd.DataFrame(trainol_median, columns=names)\n",
        "\n",
        "# Fit your data on the scaler object - train_imputed_mean\n",
        "#train_mean = scaler.fit_transform(train_mean)\n",
        "#train_mean = pd.DataFrame(train_mean, columns=names)\n",
        "\n",
        "# Fit your data on the scaler object - train_imputed_most_frequent\n",
        "#train_most_frequent = scaler.fit_transform(train_most_frequent)\n",
        "#train_most_frequent = pd.DataFrame(train_most_frequent, columns=names)\n"
      ],
      "execution_count": 0,
      "outputs": []
    },
    {
      "cell_type": "markdown",
      "metadata": {
        "id": "TrHaO7S60TKk",
        "colab_type": "text"
      },
      "source": [
        "# Retirar a coluna ['class'] do train e trainol"
      ]
    },
    {
      "cell_type": "code",
      "metadata": {
        "id": "mTotZbjc0ZXl",
        "colab_type": "code",
        "colab": {}
      },
      "source": [
        "train_median = train_median.drop(['class'], axis =1)\n",
        "trainol_median = trainol_median.drop(['class'], axis =1)"
      ],
      "execution_count": 0,
      "outputs": []
    },
    {
      "cell_type": "markdown",
      "metadata": {
        "id": "pi-jMFoNlR5H",
        "colab_type": "text"
      },
      "source": [
        "# Training: One-Class SVM"
      ]
    },
    {
      "cell_type": "code",
      "metadata": {
        "id": "XkiE7n7blRAF",
        "colab_type": "code",
        "outputId": "c43b7d35-74fd-4f15-f782-559eebafe41b",
        "colab": {
          "base_uri": "https://localhost:8080/",
          "height": 68
        }
      },
      "source": [
        "oneclass = svm.OneClassSVM(kernel='rbf',verbose=True)\n",
        "\n",
        "oneclass.fit(train_median)\n",
        "#oneclass.fit(train_mean)\n",
        "#oneclass.fit(train_most_frequent)"
      ],
      "execution_count": 48,
      "outputs": [
        {
          "output_type": "stream",
          "text": [
            "[LibSVM]"
          ],
          "name": "stdout"
        },
        {
          "output_type": "execute_result",
          "data": {
            "text/plain": [
              "OneClassSVM(cache_size=200, coef0=0.0, degree=3, gamma='auto_deprecated',\n",
              "            kernel='rbf', max_iter=-1, nu=0.5, random_state=None,\n",
              "            shrinking=True, tol=0.001, verbose=True)"
            ]
          },
          "metadata": {
            "tags": []
          },
          "execution_count": 48
        }
      ]
    },
    {
      "cell_type": "markdown",
      "metadata": {
        "id": "s6FC1exGDWU2",
        "colab_type": "text"
      },
      "source": [
        "# Salvar arquivo com Pickle"
      ]
    },
    {
      "cell_type": "code",
      "metadata": {
        "id": "-P9g1gXLDV-L",
        "colab_type": "code",
        "colab": {}
      },
      "source": [
        "import pickle\n",
        "\n",
        "# salvar arquivo de treino\n",
        "filename = 'finalized_model_median.sav'\n",
        "pickle.dump(oneclass, open(filename, 'wb'))\n",
        "\n"
      ],
      "execution_count": 0,
      "outputs": []
    },
    {
      "cell_type": "code",
      "metadata": {
        "id": "dDg2rSWSqZfM",
        "colab_type": "code",
        "colab": {}
      },
      "source": [
        "import pickle\n",
        "\n",
        "# carregar arquivo de treino\n",
        "loaded_model = pickle.load(open('/drive/My Drive/IFES/TCC_Scania/finalized_model_median_woclass.sav', 'rb'))\n",
        "#result = loaded_model.score(X_test, Y_test)\n",
        "#print(result)"
      ],
      "execution_count": 0,
      "outputs": []
    },
    {
      "cell_type": "markdown",
      "metadata": {
        "id": "zDKGtt4tqRq1",
        "colab_type": "text"
      },
      "source": [
        "# Predict"
      ]
    },
    {
      "cell_type": "code",
      "metadata": {
        "id": "GCok6LcqqTlQ",
        "colab_type": "code",
        "colab": {
          "base_uri": "https://localhost:8080/",
          "height": 51
        },
        "outputId": "e154cec3-3d5f-421e-b7d9-462a2c729b15"
      },
      "source": [
        "teste = trainol_median\n",
        "\n",
        "#pred = oneclass.predict(teste)\n",
        "pred_teste = loaded_model.predict(teste)\n",
        "\n",
        "#print('pred teste = ', pred_teste)\n",
        "\n",
        "# tirado de: https://scikit-learn.org/stable/auto_examples/svm/plot_oneclass.html\n",
        "n_error_test = pred_teste[pred_teste == -1].size\n",
        "print('erro teste = ', n_error_test)\n",
        "\n"
      ],
      "execution_count": 24,
      "outputs": [
        {
          "output_type": "stream",
          "text": [
            "erro train =  29500\n",
            "erro teste =  1000\n"
          ],
          "name": "stdout"
        }
      ]
    }
  ]
}